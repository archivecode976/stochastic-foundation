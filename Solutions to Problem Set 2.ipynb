{
 "cells": [
  {
   "cell_type": "markdown",
   "metadata": {},
   "source": [
    "### The source code can be found at https://github.com/leifuzhang/stochastic-foundations-for-finance.\n",
    "# Question 1\n",
    "## 1a\n",
    "By Question 4 in Problem Set 1, we have\n",
    "$$\n",
    "\\begin{align*}\n",
    "\\mathbb{E}[S_t] &= e^{\\mu t + t\\sigma^2/2},\\\\\n",
    "\\mbox{Var}(S_t) &=(e^{t\\sigma^2} -1)e^{2\\mu t + t\\sigma^2}.\n",
    "\\end{align*}\n",
    "$$\n",
    "\n",
    "## 1b\n",
    "Again, by Question 4 in Problem Set 1, we have\n",
    "$$\n",
    "\\begin{align*}\n",
    "\\mathbb{E}[S_t|\\mathcal{F}_s] = e^{\\mu t + (t-s)\\sigma^2/2 + \\sigma B_s},\n",
    "\\end{align*}\n",
    "$$\n",
    "for any $0<s\\leq t$.\n",
    "\n",
    "# Question 2\n",
    "## 2a\n",
    "By It&ocirc;'s lemma,\n",
    "$$\n",
    "\\begin{align*}\n",
    "\\int_0^T dB_t &= B_T,\\\\\n",
    "\\int_0^T (3B_t +2)dB_t &= \\frac{3}{2}(B_T)^2 +2B_T -\\frac{3}{2}T.\n",
    "\\end{align*}\n",
    "$$\n",
    "\n",
    "## 2b\n",
    "By It&ocirc;'s lemma,\n",
    "$$\n",
    "\\begin{align*}\n",
    "\\int_0^T\\frac{1}{(B_t)^2} dB_t &= -\\frac{1}{B_T} + \\frac{1}{B_0} + \\int_0^T \\frac{1}{(B_t)^3}dt = \\infty,\\\\\n",
    "\\int_0^T (3B_t +2)dB_t &= \\frac{1}{k}(e^{kB_T} - 1) -\\frac{k}{2}\\int_0^T e^{k B_t}dt,\\\\\n",
    "\\int_0^T \\sin(k B_t)dB_t &= \\frac{1}{k}[1 - \\cos(kB_T)] - \\frac{k}{2}\\int_0^T \\cos(kB_t)dt.\n",
    "\\end{align*}\n",
    "$$\n",
    "\n",
    "# Question 3\n",
    "By It&ocirc;'s lemma,\n",
    "$$\n",
    "\\begin{align*}\n",
    "d(B_t)^{5/2} &= \\frac{15}{8}\\sqrt{B_t}dt + \\frac{5}{2}B_t^{3/2}d B_t,\\\\\n",
    "d\\frac{1}{2+(B_t)^3} &= -\\frac{3(B_t)^2}{[2+(B_t)^3]^2}dB_t +\\frac{6[(B_t)^4 - B_t]}{[2+(B_t)^3]^3}dt,\\\\\n",
    "d e^{t+B_t}(B_t)^2 &= e^{t+B_t}[1 + 2B_t + 3(B_t)^2/2]dt + e^{t+B_t}[2B_t + (B_t)^2]dB_t.\n",
    "\\end{align*}\n",
    "$$\n",
    "\n",
    "# Question 4\n",
    "By It&ocirc;'s lemma,\n",
    "$$\n",
    "\\begin{align*}\n",
    "d X_t &= \\mu_t dt + \\sigma_t dB_t,\\\\\n",
    "d\\frac{1}{t^2}\\log X_t &= (-2\\log X_t/t^3 + \\mu_t/(t^2 X_t) - \\sigma_t^2/(2t^2 X_t^2))dt + \\frac{\\sigma_t}{t^2 X_t}d B_t,\\\\\n",
    "dt^2e^{X_t}  &= e^{X_t}(2t + t^2 \\mu_t + t^2\\sigma_t^2/2)dt + t^2 e^{X_t}\\sigma_t dB_t.\n",
    "\\end{align*}\n",
    "$$\n",
    "\n",
    "# Question 5\n",
    "## 5a\n",
    "$X_t:= S_t/I_t = \\frac{S_0}{I_0} e^{(\\alpha - \\beta)t + \\sigma_{1,t} B_{1,t} - \\sigma_{2,t} B_{2,t}}$.\n",
    "\n",
    "## 5b\n",
    "Since\n",
    "$$\n",
    "\\begin{align*}\n",
    "\\frac{dS_t}{S_t} &= (\\alpha + \\sigma_{1,t}^2/2) dt + \\sigma_{1,t}d B_{1,t},\\\\\n",
    "\\frac{dI_t}{I_t} &= (\\beta + \\sigma_{2,t}^2/2) dt + \\sigma_{2,t}d B_{2,t},\\\\\n",
    "d X_t &= \\frac{\\partial X_t}{\\partial t} dt + \\frac{\\partial X_t}{\\partial S_t} dX_t + \\frac{\\partial X_t}{\\partial I_t} dI_t + \\frac{\\partial^2 X_t}{\\partial S_t \\partial I_t} dS_t dI_t + \\frac{1}{2}[\\frac{\\partial^2 X_t}{\\partial S_t^2}(dX_t)^2 + \\frac{\\partial^2 X_t}{\\partial I_t^2}(dI_t)^2],\n",
    "\\end{align*}\n",
    "$$\n",
    "we have\n",
    "$$\n",
    "\\begin{align*}\n",
    "d X_t &= \\frac{1}{I_t} d S_t - \\frac{S_t}{I_t^2} dI_t - \\frac{1}{I_t^2}S_tI_t\\rho \\sigma_{1,t}\\sigma_{2,t} dt + \\frac{S_t}{I_t}\\sigma_{2,t}^2 dt\\\\\n",
    "&= X_t[\\alpha - \\beta - \\rho \\sigma_{1,t}\\sigma_{2,t} + (\\sigma_{1,t}^2 + \\sigma_{2,t}^2)/2] dt + X_t(\\sigma_{1,t}d B_{1,t} - \\sigma_{2,t} dB_{2,t}).\n",
    "\\end{align*}\n",
    "$$\n",
    "Hence,\n",
    "$$\n",
    "\\begin{align*}\n",
    "\\frac{1}{dt}\\mathbb{E}[d X_t/X_t] &= \\alpha - \\beta - \\rho \\sigma_{1,t}\\sigma_{2,t} + (\\sigma_{1,t}^2 + \\sigma_{2,t}^2)/2,\\\\\n",
    "\\mbox{Var}(dX_t/X_t) &= dt (\\sigma_{1,t}^2 + \\sigma_{2,t}^2 - 2\\rho \\sigma_{1,t}\\sigma_{2,t}),\\\\\n",
    "\\mbox{Vol} &= \\sqrt{\\sigma_{1,t}^2 + \\sigma_{2,t}^2 - 2\\rho \\sigma_{1,t}\\sigma_{2,t}}.\n",
    "\\end{align*}\n",
    "$$\n",
    "\n",
    "# Question 6\n",
    "## 6a"
   ]
  },
  {
   "cell_type": "code",
   "execution_count": 1,
   "metadata": {
    "collapsed": true
   },
   "outputs": [],
   "source": [
    "\"\"\"\n",
    "We can reuse the function in problem set 1\n",
    "\"\"\"\n",
    "import numpy as np\n",
    "\n",
    "def brownian_motion(n):\n",
    "    dt = 1/n\n",
    "    sqr_dt = np.sqrt(dt)\n",
    "    z = np.random.normal(size = n)\n",
    "    B=[0]\n",
    "    temp = 0\n",
    "    \n",
    "    for i in range(n):\n",
    "        temp += z[i]\n",
    "        B.append(sqr_dt*temp)\n",
    "    \n",
    "    return B\n",
    "\n",
    "# The number of simulations\n",
    "path_num = 100\n",
    "\n",
    "# Set dt = 0.1\n",
    "points_num = 10\n",
    "\n",
    "# A list to store the lebesgue sums\n",
    "lebesgue_sums = []\n",
    "\n",
    "# A list to store I\n",
    "I = []\n",
    "\n",
    "for i in range(path_num):\n",
    "    y = brownian_motion(points_num)\n",
    "    tempsum = 0\n",
    "    for j in range(len(y)-1):\n",
    "        tempsum += y[j]*(y[j+1]-y[j])\n",
    "    I.append((y[points_num]**2 -1)/2)\n",
    "    lebesgue_sums.append(tempsum) "
   ]
  },
  {
   "cell_type": "markdown",
   "metadata": {},
   "source": [
    "## 6b"
   ]
  },
  {
   "cell_type": "code",
   "execution_count": 2,
   "metadata": {
    "collapsed": false
   },
   "outputs": [
    {
     "name": "stdout",
     "output_type": "stream",
     "text": [
      "0.048658863732205425\n",
      "0.57644607981949\n"
     ]
    }
   ],
   "source": [
    "# Mean of S\n",
    "print(np.mean(lebesgue_sums))\n",
    "\n",
    "# Variance of S\n",
    "print(np.var(lebesgue_sums))"
   ]
  },
  {
   "cell_type": "markdown",
   "metadata": {},
   "source": [
    "## 6c"
   ]
  },
  {
   "cell_type": "code",
   "execution_count": 3,
   "metadata": {
    "collapsed": false
   },
   "outputs": [
    {
     "name": "stdout",
     "output_type": "stream",
     "text": [
      "0.04309401823777891\n",
      "0.672314311288196\n"
     ]
    }
   ],
   "source": [
    "# Mean of I\n",
    "print(np.mean(I))\n",
    "\n",
    "# Variance of I\n",
    "print(np.var(I))"
   ]
  },
  {
   "cell_type": "markdown",
   "metadata": {},
   "source": [
    "## 6d\n",
    "Yes."
   ]
  }
 ],
 "metadata": {
  "anaconda-cloud": {},
  "kernelspec": {
   "display_name": "Python [py36]",
   "language": "python",
   "name": "Python [py36]"
  },
  "language_info": {
   "codemirror_mode": {
    "name": "ipython",
    "version": 3
   },
   "file_extension": ".py",
   "mimetype": "text/x-python",
   "name": "python",
   "nbconvert_exporter": "python",
   "pygments_lexer": "ipython3",
   "version": "3.6.1"
  }
 },
 "nbformat": 4,
 "nbformat_minor": 2
}
